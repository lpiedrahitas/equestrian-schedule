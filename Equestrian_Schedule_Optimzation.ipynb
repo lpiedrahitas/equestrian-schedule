{
  "nbformat": 4,
  "nbformat_minor": 0,
  "metadata": {
    "colab": {
      "provenance": []
    },
    "kernelspec": {
      "name": "python3",
      "display_name": "Python 3"
    },
    "language_info": {
      "name": "python"
    }
  },
  "cells": [
    {
      "cell_type": "code",
      "source": [
        "pip install gurobipy"
      ],
      "metadata": {
        "colab": {
          "base_uri": "https://localhost:8080/"
        },
        "id": "fsjLez6tpMid",
        "outputId": "c4f01c27-a922-4364-c3ff-dbc76197804b"
      },
      "execution_count": 1,
      "outputs": [
        {
          "output_type": "stream",
          "name": "stdout",
          "text": [
            "Collecting gurobipy\n",
            "  Downloading gurobipy-11.0.0-cp310-cp310-manylinux2014_x86_64.manylinux_2_17_x86_64.whl (13.4 MB)\n",
            "\u001b[2K     \u001b[90m━━━━━━━━━━━━━━━━━━━━━━━━━━━━━━━━━━━━━━━━\u001b[0m \u001b[32m13.4/13.4 MB\u001b[0m \u001b[31m56.6 MB/s\u001b[0m eta \u001b[36m0:00:00\u001b[0m\n",
            "\u001b[?25hInstalling collected packages: gurobipy\n",
            "Successfully installed gurobipy-11.0.0\n"
          ]
        }
      ]
    },
    {
      "cell_type": "code",
      "source": [
        "from gurobipy import Model, GRB"
      ],
      "metadata": {
        "id": "bgY75PksJV4z"
      },
      "execution_count": 4,
      "outputs": []
    },
    {
      "cell_type": "code",
      "source": [
        "# Create a new model\n",
        "model = Model(\"equestrian_schedule\")\n",
        "\n",
        "# Define your problem data\n",
        "weeks = list(range(1, 13))  # Weeks numbered from 1 to 12\n",
        "horses = list(range(1, 6))  # 5 horses, numbered from 1 to 5\n",
        "events = list(range(1, 20))  # Events numbered from 1 to 12\n",
        "\n",
        "# Define prize money for each event\n",
        "prize_money = {\n",
        "    1: 32923.90,\n",
        "    2: 32923.90,\n",
        "    3: 14308.05,\n",
        "    4: 41847.20,\n",
        "    5: 14308.05,\n",
        "    6: 41847.20,\n",
        "    7: 14308.05,\n",
        "    8: 79694.30,\n",
        "    9: 28154.55,\n",
        "    10: 14616.75,\n",
        "    11: 83386.70,\n",
        "    12: 41539.50,\n",
        "    13: 15231.15,\n",
        "    14: 83386.70,\n",
        "    15: 46770.40,\n",
        "    16: 14616.75,\n",
        "    17: 44001.10,\n",
        "    18: 15538.85,\n",
        "    19: 105387.25\n",
        "}\n",
        "\n",
        "# Map events to weeks\n",
        "event_to_week = {\n",
        "    1: 1,   # Event 1 in Week 1\n",
        "    2: 2,   # Event 2 in Week 2\n",
        "    3: 3,   # Event 3 in Week 3\n",
        "    4: 3,   # Event 4 in Week 3\n",
        "    5: 4,   # Event 5 in Week 4\n",
        "    6: 4,   # Event 6 in Week 4\n",
        "    7: 5,   # Event 7 in Week 5\n",
        "    8: 5,   # Event 8 in Week 5\n",
        "    9: 6,   # Event 9 in Week 6\n",
        "    10: 7,  # Event 10 in Week 7\n",
        "    11: 7,  # Event 11 in Week 7\n",
        "    12: 8,  # Event 12 in Week 8\n",
        "    13: 9,  # Event 13 in Week 9\n",
        "    14: 9,  # Event 14 in Week 9\n",
        "    15: 10, # Event 15 in Week 10\n",
        "    16: 11, # Event 16 in Week 11\n",
        "    17: 11, # Event 17 in Week 11\n",
        "    18: 12, # Event 18 in Week 12\n",
        "    19: 12  # Event 19 in Week 12\n",
        "}\n"
      ],
      "metadata": {
        "id": "Y0qm4-uRJXeN"
      },
      "execution_count": 24,
      "outputs": []
    },
    {
      "cell_type": "code",
      "source": [
        "# Decision variables: x[i][j] = 1 if horse j participates in event i\n",
        "x = {}\n",
        "for i in events:\n",
        "    for j in horses:\n",
        "        x[i, j] = model.addVar(vtype=GRB.BINARY, name=f\"x_{i}_{j}\")"
      ],
      "metadata": {
        "id": "odbYaqUYJY_X"
      },
      "execution_count": 25,
      "outputs": []
    },
    {
      "cell_type": "code",
      "source": [
        "# Update model to integrate new variables\n",
        "model.update()"
      ],
      "metadata": {
        "id": "3J_vK31EPvzw"
      },
      "execution_count": 26,
      "outputs": []
    },
    {
      "cell_type": "code",
      "source": [
        "# Objective function: Maximize prize money\n",
        "# Assuming prize_money is a dictionary with prize money per week\n",
        "model.setObjective(sum(prize_money[i] * x[i, j] for i in events for j in horses), GRB.MAXIMIZE)"
      ],
      "metadata": {
        "id": "FttfmlW5Pybq"
      },
      "execution_count": 27,
      "outputs": []
    },
    {
      "cell_type": "code",
      "source": [
        "# Constraint: Each horse can participate up to 6 events\n",
        "for j in horses:\n",
        "    model.addConstr(sum(x[i, j] for i in events) <= 6, f\"MaxWeeks_Horse_{j}\")\n",
        "\n",
        "# Constraint: Athlete must participate in every event with at least one horse\n",
        "for i in events:\n",
        "    model.addConstr(sum(x[i, j] for j in horses) >= 1, f\"MinParticipation_Week_{i}\")"
      ],
      "metadata": {
        "id": "5-4SE3n6Rm-x"
      },
      "execution_count": 29,
      "outputs": []
    },
    {
      "cell_type": "code",
      "source": [
        "# Constraint: No more than 3 horses showing in the same week\n",
        "for w in weeks:\n",
        "    model.addConstr(sum(x[e, j] for e in events if event_to_week[e] == w for j in horses) <= 3, f\"MaxHorses_Week_{w}\")\n",
        "\n",
        "# Add constraint: Horses cannot enter more than 2 weeks in a row\n",
        "for j in horses:\n",
        "    for i in range(1, len(weeks) - 1):  # Iterate over weeks, stopping two weeks before the end\n",
        "        if i+2 in weeks:  # Check if the next two weeks are in the schedule\n",
        "            model.addConstr(sum(x[e, j] for e in events if event_to_week[e] in [i, i+1, i+2]) <= 2, f\"MaxConsecutive_Weeks_{i}_Horse_{j}\")\n",
        "\n",
        "# Add constraint: One horse cannot be in two events in the same week\n",
        "for j in horses:\n",
        "    for w in weeks:\n",
        "        # Ensure the sum of participation in all events of a given week is at most 1 for each horse\n",
        "        model.addConstr(sum(x[e, j] for e in events if event_to_week[e] == w) <= 1, f\"MaxOneEventPerWeek_Horse_{j}_Week_{w}\")\n"
      ],
      "metadata": {
        "id": "PuAzYAEcRt1j"
      },
      "execution_count": 34,
      "outputs": []
    },
    {
      "cell_type": "code",
      "source": [
        "# Optimize model\n",
        "model.optimize()"
      ],
      "metadata": {
        "colab": {
          "base_uri": "https://localhost:8080/"
        },
        "id": "dyybskJJpLpo",
        "outputId": "b90617fb-0661-49bb-e32f-f1c07ccb6263"
      },
      "execution_count": 35,
      "outputs": [
        {
          "output_type": "stream",
          "name": "stdout",
          "text": [
            "Gurobi Optimizer version 11.0.0 build v11.0.0rc2 (linux64 - \"Ubuntu 22.04.3 LTS\")\n",
            "\n",
            "CPU model: Intel(R) Xeon(R) CPU @ 2.20GHz, instruction set [SSE2|AVX|AVX2]\n",
            "Thread count: 1 physical cores, 2 logical processors, using up to 2 threads\n",
            "\n",
            "Optimize a model with 208 rows, 95 columns and 955 nonzeros\n",
            "Model fingerprint: 0xf14e58b7\n",
            "Variable types: 0 continuous, 95 integer (95 binary)\n",
            "Coefficient statistics:\n",
            "  Matrix range     [1e+00, 1e+00]\n",
            "  Objective range  [1e+04, 1e+05]\n",
            "  Bounds range     [1e+00, 1e+00]\n",
            "  RHS range        [1e+00, 6e+00]\n",
            "\n",
            "MIP start from previous solve did not produce a new incumbent solution\n",
            "MIP start from previous solve violates constraint MaxOneEventPerWeek_Horse_4_Week_7 by 1.000000000\n",
            "\n",
            "Found heuristic solution: objective 1070491.3000\n",
            "Presolve removed 87 rows and 0 columns\n",
            "Presolve time: 0.00s\n",
            "Presolved: 121 rows, 95 columns, 595 nonzeros\n",
            "Variable types: 0 continuous, 95 integer (95 binary)\n",
            "Found heuristic solution: objective 1398344.6500\n",
            "\n",
            "Root relaxation: objective 1.420961e+06, 58 iterations, 0.00 seconds (0.00 work units)\n",
            "\n",
            "    Nodes    |    Current Node    |     Objective Bounds      |     Work\n",
            " Expl Unexpl |  Obj  Depth IntInf | Incumbent    BestBd   Gap | It/Node Time\n",
            "\n",
            "*    0     0               0    1420960.6000 1420960.60  0.00%     -    0s\n",
            "\n",
            "Explored 1 nodes (58 simplex iterations) in 0.05 seconds (0.00 work units)\n",
            "Thread count was 2 (of 2 available processors)\n",
            "\n",
            "Solution count 3: 1.42096e+06 1.39834e+06 1.07049e+06 \n",
            "\n",
            "Optimal solution found (tolerance 1.00e-04)\n",
            "Best objective 1.420960600000e+06, best bound 1.420960600000e+06, gap 0.0000%\n"
          ]
        }
      ]
    },
    {
      "cell_type": "code",
      "source": [
        "# Output the results by horse\n",
        "for j in horses:\n",
        "    print(f\"Horse {j} participates in:\")\n",
        "    for i in events:\n",
        "        if x[i, j].X > 0.5:  # If the decision variable is set to 1\n",
        "            week = event_to_week[i]  # Get the week number for the event\n",
        "            print(f\"  - Week {week}, Event {i}\")\n",
        "    print(\"\")  # Add an empty line for better readability between horses\n"
      ],
      "metadata": {
        "colab": {
          "base_uri": "https://localhost:8080/"
        },
        "id": "j6SI79ywVNqz",
        "outputId": "88823f03-3037-4765-f978-d6e6789e50b1"
      },
      "execution_count": 36,
      "outputs": [
        {
          "output_type": "stream",
          "name": "stdout",
          "text": [
            "Horse 1 participates in:\n",
            "  - Week 3, Event 3\n",
            "  - Week 5, Event 8\n",
            "  - Week 7, Event 10\n",
            "  - Week 9, Event 13\n",
            "  - Week 11, Event 16\n",
            "  - Week 12, Event 18\n",
            "\n",
            "Horse 2 participates in:\n",
            "  - Week 4, Event 6\n",
            "  - Week 5, Event 8\n",
            "  - Week 7, Event 11\n",
            "  - Week 8, Event 12\n",
            "  - Week 10, Event 15\n",
            "  - Week 11, Event 17\n",
            "\n",
            "Horse 3 participates in:\n",
            "  - Week 3, Event 4\n",
            "  - Week 4, Event 6\n",
            "  - Week 7, Event 11\n",
            "  - Week 9, Event 14\n",
            "  - Week 10, Event 15\n",
            "  - Week 12, Event 19\n",
            "\n",
            "Horse 4 participates in:\n",
            "  - Week 2, Event 2\n",
            "  - Week 3, Event 4\n",
            "  - Week 6, Event 9\n",
            "  - Week 8, Event 12\n",
            "  - Week 9, Event 14\n",
            "  - Week 12, Event 19\n",
            "\n",
            "Horse 5 participates in:\n",
            "  - Week 1, Event 1\n",
            "  - Week 4, Event 5\n",
            "  - Week 5, Event 7\n",
            "  - Week 8, Event 12\n",
            "  - Week 10, Event 15\n",
            "  - Week 11, Event 17\n",
            "\n"
          ]
        }
      ]
    },
    {
      "cell_type": "code",
      "source": [
        "# Output the results\n",
        "for i in events:\n",
        "    for j in horses:\n",
        "        if x[i, j].X > 0.5:  # If the decision variable is set to 1\n",
        "            week = event_to_week[i]  # Get the week number for the event\n",
        "            print(f\"Week {week}, Event {i}, Horse {j}: Participate\")"
      ],
      "metadata": {
        "id": "xs1NKQIzW9Fy",
        "outputId": "47862cf3-c30b-48a9-ad2f-76bfced1b657",
        "colab": {
          "base_uri": "https://localhost:8080/"
        }
      },
      "execution_count": 37,
      "outputs": [
        {
          "output_type": "stream",
          "name": "stdout",
          "text": [
            "Week 1, Event 1, Horse 5: Participate\n",
            "Week 2, Event 2, Horse 4: Participate\n",
            "Week 3, Event 3, Horse 1: Participate\n",
            "Week 3, Event 4, Horse 3: Participate\n",
            "Week 3, Event 4, Horse 4: Participate\n",
            "Week 4, Event 5, Horse 5: Participate\n",
            "Week 4, Event 6, Horse 2: Participate\n",
            "Week 4, Event 6, Horse 3: Participate\n",
            "Week 5, Event 7, Horse 5: Participate\n",
            "Week 5, Event 8, Horse 1: Participate\n",
            "Week 5, Event 8, Horse 2: Participate\n",
            "Week 6, Event 9, Horse 4: Participate\n",
            "Week 7, Event 10, Horse 1: Participate\n",
            "Week 7, Event 11, Horse 2: Participate\n",
            "Week 7, Event 11, Horse 3: Participate\n",
            "Week 8, Event 12, Horse 2: Participate\n",
            "Week 8, Event 12, Horse 4: Participate\n",
            "Week 8, Event 12, Horse 5: Participate\n",
            "Week 9, Event 13, Horse 1: Participate\n",
            "Week 9, Event 14, Horse 3: Participate\n",
            "Week 9, Event 14, Horse 4: Participate\n",
            "Week 10, Event 15, Horse 2: Participate\n",
            "Week 10, Event 15, Horse 3: Participate\n",
            "Week 10, Event 15, Horse 5: Participate\n",
            "Week 11, Event 16, Horse 1: Participate\n",
            "Week 11, Event 17, Horse 2: Participate\n",
            "Week 11, Event 17, Horse 5: Participate\n",
            "Week 12, Event 18, Horse 1: Participate\n",
            "Week 12, Event 19, Horse 3: Participate\n",
            "Week 12, Event 19, Horse 4: Participate\n"
          ]
        }
      ]
    }
  ]
}